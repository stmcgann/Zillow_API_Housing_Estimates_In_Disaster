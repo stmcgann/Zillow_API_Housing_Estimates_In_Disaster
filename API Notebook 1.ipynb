{
 "cells": [
  {
   "cell_type": "code",
   "execution_count": 1,
   "metadata": {},
   "outputs": [],
   "source": [
    "import requests\n",
    "import pandas as pd\n",
    "from bs4 import BeautifulSoup\n",
    "import re\n",
    "import zillow\n",
    "import re\n",
    "import numpy as np\n",
    "from scipy import stats\n",
    "import matplotlib.pyplot as plt\n",
    "from zillow import ValuationApi\n",
    "pd.options.display.max_rows = 700\\\n",
    "\n",
    "import arcgis\n",
    "from arcgis.gis import GIS\n",
    "gis = GIS()"
   ]
  },
  {
   "cell_type": "markdown",
   "metadata": {},
   "source": [
    "### Instantiate the Zillow API\n",
    "After installing Zillow API in your terminal you should be able to load the zillow library and the valuation API.  Notice that you must input your zillow api key before moving ahead.  The Zillow api takes your personal key as it's first parameter input and will not run without one.  According to the zillow ToS you must use your own personal key and cannot share with other members of your team/company."
   ]
  },
  {
   "cell_type": "code",
   "execution_count": 2,
   "metadata": {},
   "outputs": [],
   "source": [
    "from zillow import ValuationApi\n",
    "\n",
    "#insert your API key from zillow here\n",
    "zid = 'X1-ZWz18cqbc8wgsr_7j3qs'\n",
    "\n",
    "api = zillow.ValuationApi()"
   ]
  },
  {
   "cell_type": "markdown",
   "metadata": {},
   "source": [
    "Read in your Address csv Data.  This will be important later for utilization in the code.  If you change the name of your dataframe here you will have to change it in all of the code below"
   ]
  },
  {
   "cell_type": "code",
   "execution_count": 15,
   "metadata": {},
   "outputs": [],
   "source": [
    "#rochester = pd.read_csv('./us/ny/city_of_rochester.csv')"
   ]
  },
  {
   "cell_type": "code",
   "execution_count": 3,
   "metadata": {},
   "outputs": [
    {
     "name": "stderr",
     "output_type": "stream",
     "text": [
      "C:\\Users\\tbaca\\Anaconda3\\lib\\site-packages\\IPython\\core\\interactiveshell.py:2785: DtypeWarning: Columns (4) have mixed types. Specify dtype option on import or set low_memory=False.\n",
      "  interactivity=interactivity, compiler=compiler, result=result)\n"
     ]
    }
   ],
   "source": [
    "df = pd.read_csv('./us/ny/broome.csv')"
   ]
  },
  {
   "cell_type": "markdown",
   "metadata": {},
   "source": [
    "### Cleaning Data\n",
    "Below are the few steps taken to clean the data.  The first is a simple drop/drop na, removing non-essential columns and removing rows with NaN information (notably, 'STREET' or street names and 'NUMBERS' or house numbers)"
   ]
  },
  {
   "cell_type": "code",
   "execution_count": 4,
   "metadata": {},
   "outputs": [],
   "source": [
    "#df['CITY'] = 'CALAVERAS'\n",
    "# Manually input city name if mmissing in dataframe"
   ]
  },
  {
   "cell_type": "code",
   "execution_count": 5,
   "metadata": {},
   "outputs": [],
   "source": [
    "df.drop(['DISTRICT','REGION','ID','HASH','UNIT'], axis = 1, inplace = True)\n",
    "df['CITY'] = 'Broome'\n",
    "df.dropna(inplace = True)\n",
    "df['POSTCODE'] = df['POSTCODE'].astype(int)\n",
    "df.reset_index(inplace = True)"
   ]
  },
  {
   "cell_type": "markdown",
   "metadata": {},
   "source": [
    "##Only for specific area!##\n",
    "\n",
    "This loop runs through our data to replace any 'NUMBER' values seperated in the '120-124' format.  This allows us to search each individual property individually in the API. Be patient, this could take some time to complete.  Note the progress bar, this is a personal preference to track the loops progress.  If this does not run for you, simply run 'pip install progressbar2' in your terminal"
   ]
  },
  {
   "cell_type": "code",
   "execution_count": null,
   "metadata": {
    "scrolled": true
   },
   "outputs": [],
   "source": [
    "# for each in df['NUMBER']:\n",
    "#     if '-' in each:\n",
    "#         temp=re.findall('(\\d*)-(\\d*).*',str(each))\n",
    "#         print(temp)\n",
    "#             for i in range(int(temp[0][0]),int(temp[0][1])+1):\n",
    "#                 temp_df = pd.DataFrame(df.loc[la['NUMBER'] == str(each)])\n",
    "#                 temp_df = pd.DataFrame(temp_df)\n",
    "#                 temp_df['NUMBER'] = int(i)\n",
    "#         df = pd.concat([df,temp_df], axis = 0)\n",
    "#         df.reset_index(inplace = True, drop = True)\n",
    "#     df = df.drop(rochester[la['NUMBER'] == each].index)"
   ]
  },
  {
   "cell_type": "markdown",
   "metadata": {},
   "source": [
    "### Zillow Estimator\n",
    "At this point we have a full list of addresses and postal codes in our dataframe which we can use to enter into the Zillow API.  This forloop allows for some flexibility in the requests, if Zillow has no estimate on a property the loop should add a \"None\" value to the list."
   ]
  },
  {
   "cell_type": "code",
   "execution_count": 9,
   "metadata": {},
   "outputs": [],
   "source": [
    "from progressbar import ProgressBar\n",
    "bar = ProgressBar(left=True,right = True)"
   ]
  },
  {
   "cell_type": "markdown",
   "metadata": {},
   "source": [
    "This progress bar is a personal choice and not needed to run the function, it does allow for some clear understanding at which stage your loop is at and the ETA for completion.  It comes with its own share of issues though, please use with caution."
   ]
  },
  {
   "cell_type": "code",
   "execution_count": 10,
   "metadata": {},
   "outputs": [],
   "source": [
    "def Zestimate(zipcode):\n",
    "    zestimate_list = []\n",
    "    zipdf = df[df['POSTCODE'].isin(zipcode)]\n",
    "\n",
    "\n",
    "    for i in bar(range(len(zipdf))):\n",
    "        try:\n",
    "            address = str(zipdf['NUMBER'][i]+' '+zipdf['STREET'][i]+'.,'+zipdf['CITY'][i]+', FL')\n",
    "            postal_code = str(int(zipdf['POSTCODE'][i]))\n",
    "            data = api.GetSearchResults(zid,address,postal_code)\n",
    "            if data != None:\n",
    "                zestimate_list.append(data.zestiamte.amount)\n",
    "            else:\n",
    "                pass\n",
    "        except:\n",
    "            pass\n",
    "    #Worth noting that many of the addresses do no have corresponding values in the zillow database.\n",
    "    #The below print output shows how many the API missed.\n",
    "    print('Missing Values:',len(zipdf)-len(zestimate_list),'Gathered:',\"{0:.2f}\".format((len(zestimate_list))/len(zipdf)*100),'%')\n",
    "    \n",
    "    # This is the print output, change the print out to your preference.\n",
    "    zestimate_list = [x for x in zestimate_list if x is not None]\n",
    "    zestimate_list = np.array(zestimate_list)\n",
    "    statistics = stats.describe(zestimate_list)\n",
    "    std = np.std(zestimate_list)\n",
    "    median = np.median(zestimate_list)\n",
    "    print('    ==========================================')\n",
    "    print('                 For Area', str(zipcode) )\n",
    "    print('    ==========================================')\n",
    "    print()\n",
    "    print('     |  Values  |:',statistics[0])\n",
    "    print('     | Minimum  |:', statistics[1][0])\n",
    "    print('     | Maximum  |:', statistics[1][1])\n",
    "    print('     |  Median  |:', median)\n",
    "    print('     |   Mean   |:', float(\"{0:.2f}\".format(statistics[2])))\n",
    "    print('     |   Std    |:', float(\"{0:.2f}\".format(std)))\n",
    "    print('     | Skewness |:', float(\"{0:.2f}\".format(statistics[4])))\n",
    "    print('     | Kurtosis |:', float(\"{0:.2f}\".format(statistics[5])))\n",
    "    plt.hist(zestimate_list, edgecolor = 'black');\n",
    "    plt.xlabel('House Value')\n",
    "    plt.ylabel('Frequency')\n",
    "    plt.xticks(rotation='vertical')\n",
    "    return "
   ]
  },
  {
   "cell_type": "code",
   "execution_count": 11,
   "metadata": {
    "scrolled": true
   },
   "outputs": [
    {
     "data": {
      "text/plain": [
       "13760    22095\n",
       "13905    15393\n",
       "13901    11964\n",
       "13850    11182\n",
       "13903    11044\n",
       "Name: POSTCODE, dtype: int64"
      ]
     },
     "execution_count": 11,
     "metadata": {},
     "output_type": "execute_result"
    }
   ],
   "source": [
    "# Choose a postalcode from here for the function:\n",
    "df['POSTCODE'].value_counts().head(5)"
   ]
  },
  {
   "cell_type": "code",
   "execution_count": null,
   "metadata": {
    "scrolled": false
   },
   "outputs": [
    {
     "name": "stderr",
     "output_type": "stream",
     "text": [
      "  0% (66 of 60634) |                     | Elapsed Time: 0:00:03 ETA:   0:45:45"
     ]
    }
   ],
   "source": [
    "Zestimate([13760,13905,13901,13850,13902])\n"
   ]
  },
  {
   "cell_type": "code",
   "execution_count": null,
   "metadata": {},
   "outputs": [],
   "source": [
    "# Common Error - if there is a value error # out of range, rerun the bar code from above\n",
    "# Print Statements \n",
    "# Address Missing Data"
   ]
  }
 ],
 "metadata": {
  "kernelspec": {
   "display_name": "Python 3",
   "language": "python",
   "name": "python3"
  },
  "language_info": {
   "codemirror_mode": {
    "name": "ipython",
    "version": 3
   },
   "file_extension": ".py",
   "mimetype": "text/x-python",
   "name": "python",
   "nbconvert_exporter": "python",
   "pygments_lexer": "ipython3",
   "version": "3.6.5"
  }
 },
 "nbformat": 4,
 "nbformat_minor": 2
}
