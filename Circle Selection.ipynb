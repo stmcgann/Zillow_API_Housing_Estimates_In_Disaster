{
 "cells": [
  {
   "cell_type": "code",
   "execution_count": 1,
   "metadata": {},
   "outputs": [],
   "source": [
    "import math"
   ]
  },
  {
   "cell_type": "code",
   "execution_count": 2,
   "metadata": {},
   "outputs": [],
   "source": [
    "def red_calc(x1,y1,x2,y2):\n",
    "    x1 = math.radians(x1)\n",
    "    y1 = math.radians(y1)\n",
    "    x2 = math.radians(x2)\n",
    "    y2 = math.radians(y2)\n",
    "    \n",
    "    angle1 = math.acos(math.sin(x1) * math.sin(x2) \\\n",
    "             + math.cos(x1) * math.cos(x2) * math.cos(y1 - y2))\n",
    "    \n",
    "    angle1 = math.degrees(angle1)\n",
    "    \n",
    "    distance1 = 60.0 * angle1\n",
    "    return print('Rad = ' + str(distance1*1.852)+' KM')\n"
   ]
  },
  {
   "cell_type": "code",
   "execution_count": 3,
   "metadata": {},
   "outputs": [
    {
     "name": "stdout",
     "output_type": "stream",
     "text": [
      "Rad = 160.93523639346884 KM\n"
     ]
    }
   ],
   "source": [
    "red_calc(34,51.99009,34.0522,50.2437)"
   ]
  },
  {
   "cell_type": "code",
   "execution_count": 4,
   "metadata": {},
   "outputs": [],
   "source": [
    "def PointsInCircum(r,n=100):\n",
    "    return [(math.cos(2*pi/n*x)*r,math.sin(2*pi/n*x)*r) for x in range(0,n+1)]"
   ]
  },
  {
   "cell_type": "code",
   "execution_count": 5,
   "metadata": {},
   "outputs": [],
   "source": [
    "pi = math.pi"
   ]
  },
  {
   "cell_type": "code",
   "execution_count": 6,
   "metadata": {},
   "outputs": [],
   "source": [
    "a = PointsInCircum(r = 100,n = 10000)"
   ]
  },
  {
   "cell_type": "code",
   "execution_count": 7,
   "metadata": {},
   "outputs": [],
   "source": [
    "import pandas as pd"
   ]
  },
  {
   "cell_type": "code",
   "execution_count": 8,
   "metadata": {},
   "outputs": [],
   "source": [
    "df = pd.DataFrame(a)"
   ]
  },
  {
   "cell_type": "code",
   "execution_count": 14,
   "metadata": {},
   "outputs": [
    {
     "name": "stdout",
     "output_type": "stream",
     "text": [
      "{'type': 'Polygon', 'coordinates': (((39.16537254008676, -79.9600522802692), (38.750236739290585, -79.67325796673616), (37.86948472140393, -79.42402970535866), (36.63452639963533, -79.23598801055705), (35.17029668768465, -79.12597888709233), (33.60714820596485, -79.1034995284619), (32.077009286490956, -79.17045959476918), (30.711332073971175, -79.32114000918156), (29.638448252201552, -79.54232303113652), (28.977906870834122, -79.81367379210592), (28.82933939965346, -80.10857418299926), (29.254180292358782, -80.39573943147676), (30.251573572999156, -80.64201098438794), (31.735958090906024, -80.8165389085618), (33.530656798438244, -80.89595013520061), (35.39128929849532, -80.86916040496307), (37.058093807971424, -80.7399416275622), (38.31552439050537, -80.52602713975186), (39.03162257110838, -80.25519448122812), (39.16537254008676, -79.9600522802692)),)}\n"
     ]
    },
    {
     "data": {
      "image/png": "[encoded data removed]",
      "text/plain": [
       "<Figure size 432x288 with 1 Axes>"
      ]
     },
     "metadata": {},
     "output_type": "display_data"
    }
   ],
   "source": [
    "circle_area(56,-81,1000)"
   ]
  },
  {
   "cell_type": "code",
   "execution_count": 12,
   "metadata": {},
   "outputs": [],
   "source": [
    "import numpy as np\n",
    "import json\n",
    "import geog\n",
    "import shapely.geometry\n",
    "import matplotlib.pyplot as plt\n",
    "\n",
    "def circle_area(lat,long,radius,n_points=20000):\n",
    "    n_points = 20\n",
    "    p = shapely.geometry.Point([34, -80])\n",
    "    angles = np.linspace(0, 360, n_points)\n",
    "    d = 100000\n",
    "    polygon = geog.propagate(p, angles, d)\n",
    "    df_test = pd.DataFrame(polygon)\n",
    "    print(shapely.geometry.mapping(shapely.geometry.Polygon(polygon)))\n",
    "\n",
    "    df_test.plot(x = 0, y = 1, kind = 'scatter')\n"
   ]
  },
  {
   "cell_type": "code",
   "execution_count": 10,
   "metadata": {},
   "outputs": [
    {
     "data": {
      "text/html": [
       "<div>\n",
       "<style scoped>\n",
       "    .dataframe tbody tr th:only-of-type {\n",
       "        vertical-align: middle;\n",
       "    }\n",
       "\n",
       "    .dataframe tbody tr th {\n",
       "        vertical-align: top;\n",
       "    }\n",
       "\n",
       "    .dataframe thead th {\n",
       "        text-align: right;\n",
       "    }\n",
       "</style>\n",
       "<table border=\"1\" class=\"dataframe\">\n",
       "  <thead>\n",
       "    <tr style=\"text-align: right;\">\n",
       "      <th></th>\n",
       "      <th>0</th>\n",
       "      <th>1</th>\n",
       "    </tr>\n",
       "  </thead>\n",
       "  <tbody>\n",
       "    <tr>\n",
       "      <th>count</th>\n",
       "      <td>20.000000</td>\n",
       "      <td>20.000000</td>\n",
       "    </tr>\n",
       "    <tr>\n",
       "      <th>mean</th>\n",
       "      <td>34.258269</td>\n",
       "      <td>-79.978980</td>\n",
       "    </tr>\n",
       "    <tr>\n",
       "      <th>std</th>\n",
       "      <td>3.843465</td>\n",
       "      <td>0.635452</td>\n",
       "    </tr>\n",
       "    <tr>\n",
       "      <th>min</th>\n",
       "      <td>28.829339</td>\n",
       "      <td>-80.895950</td>\n",
       "    </tr>\n",
       "    <tr>\n",
       "      <th>25%</th>\n",
       "      <td>30.596392</td>\n",
       "      <td>-80.555023</td>\n",
       "    </tr>\n",
       "    <tr>\n",
       "      <th>50%</th>\n",
       "      <td>34.388722</td>\n",
       "      <td>-79.960052</td>\n",
       "    </tr>\n",
       "    <tr>\n",
       "      <th>75%</th>\n",
       "      <td>37.980995</td>\n",
       "      <td>-79.398307</td>\n",
       "    </tr>\n",
       "    <tr>\n",
       "      <th>max</th>\n",
       "      <td>39.165373</td>\n",
       "      <td>-79.103500</td>\n",
       "    </tr>\n",
       "  </tbody>\n",
       "</table>\n",
       "</div>"
      ],
      "text/plain": [
       "               0          1\n",
       "count  20.000000  20.000000\n",
       "mean   34.258269 -79.978980\n",
       "std     3.843465   0.635452\n",
       "min    28.829339 -80.895950\n",
       "25%    30.596392 -80.555023\n",
       "50%    34.388722 -79.960052\n",
       "75%    37.980995 -79.398307\n",
       "max    39.165373 -79.103500"
      ]
     },
     "execution_count": 10,
     "metadata": {},
     "output_type": "execute_result"
    }
   ],
   "source": [
    "df_test.describe()"
   ]
  },
  {
   "cell_type": "code",
   "execution_count": 401,
   "metadata": {},
   "outputs": [
    {
     "name": "stdout",
     "output_type": "stream",
     "text": [
      "Rad = 914.6317202399978 KM\n"
     ]
    }
   ],
   "source": [
    "red_calc(34,-80,42.231027,-80)"
   ]
  },
  {
   "cell_type": "code",
   "execution_count": null,
   "metadata": {},
   "outputs": [],
   "source": [
    "geoppandas = geoppd\n",
    "polygon = pd.rad_csr(circle.csv)\n",
    "polygon.contains-in()"
   ]
  }
 ],
 "metadata": {
  "kernelspec": {
   "display_name": "Python 3",
   "language": "python",
   "name": "python3"
  },
  "language_info": {
   "codemirror_mode": {
    "name": "ipython",
    "version": 3
   },
   "file_extension": ".py",
   "mimetype": "text/x-python",
   "name": "python",
   "nbconvert_exporter": "python",
   "pygments_lexer": "ipython3",
   "version": "3.6.5"
  }
 },
 "nbformat": 4,
 "nbformat_minor": 2
}
